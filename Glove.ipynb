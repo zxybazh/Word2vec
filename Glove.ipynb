{
 "cells": [
  {
   "cell_type": "code",
   "execution_count": 1,
   "metadata": {
    "collapsed": true
   },
   "outputs": [],
   "source": [
    "import numpy as np\n",
    "import random, math\n",
    "from os import sys\n",
    "from nltk import *"
   ]
  },
  {
   "cell_type": "code",
   "execution_count": 2,
   "metadata": {
    "collapsed": true
   },
   "outputs": [],
   "source": [
    "corpus = open(\"./data/text8\", \"r\").read().split(\" \")[1:]\n",
    "vocabulary = open(\"./data/vocab.txt\", \"r\").read().split(\"\\n\")[:-1]"
   ]
  },
  {
   "cell_type": "code",
   "execution_count": 3,
   "metadata": {
    "collapsed": true
   },
   "outputs": [],
   "source": [
    "freq = FreqDist(corpus).most_common(10000)\n",
    "for w in freq:\n",
    "    if not w[0] in vocabulary:\n",
    "        vocabulary.append(w[0])"
   ]
  },
  {
   "cell_type": "code",
   "execution_count": 4,
   "metadata": {
    "collapsed": true
   },
   "outputs": [],
   "source": [
    "dictionary ={}\n",
    "word_list = vocabulary + [\"<unk>\"]\n",
    "count = 0\n",
    "for w in word_list:\n",
    "    dictionary[w] = count\n",
    "    count += 1"
   ]
  },
  {
   "cell_type": "code",
   "execution_count": 5,
   "metadata": {
    "collapsed": true
   },
   "outputs": [],
   "source": [
    "window_size = 10\n",
    "dimension = 300\n",
    "learning_rate = 0.1\n",
    "vocabulary_size = len(vocabulary) + 1\n",
    "x_max = 700\n",
    "alpha = 0.75"
   ]
  },
  {
   "cell_type": "code",
   "execution_count": 6,
   "metadata": {
    "collapsed": true
   },
   "outputs": [],
   "source": [
    "words = [-1 for i in xrange(len(corpus))]\n",
    "word_count = [0 for i in xrange(vocabulary_size)]\n",
    "i = 0\n",
    "for w in corpus:\n",
    "    if w in dictionary:\n",
    "        words[i] = dictionary[w]\n",
    "    else:\n",
    "        words[i] = vocabulary_size - 1\n",
    "    word_count[words[i]] += 1\n",
    "    i += 1"
   ]
  },
  {
   "cell_type": "code",
   "execution_count": 7,
   "metadata": {
    "collapsed": true
   },
   "outputs": [],
   "source": [
    "cooccur = [[0 for i in xrange(vocabulary_size)] for j in xrange(vocabulary_size)]\n",
    "for i in xrange(len(words)):\n",
    "    for y in words[i-window_size+1:i]:\n",
    "        x = words[i]\n",
    "        cooccur[x][y] += 1\n",
    "        cooccur[y][x] += 1"
   ]
  },
  {
   "cell_type": "code",
   "execution_count": 8,
   "metadata": {
    "collapsed": true
   },
   "outputs": [],
   "source": [
    "def f(x):\n",
    "    if x > x_max: return 1\n",
    "    else: return (float(x)/x_max)**alpha"
   ]
  },
  {
   "cell_type": "code",
   "execution_count": 9,
   "metadata": {
    "collapsed": true
   },
   "outputs": [],
   "source": [
    "def compute_loss(W, b):\n",
    "    loss = 0\n",
    "    for i in xrange(vocabulary_size):\n",
    "        for j in xrange(i+1, vocabulary_size):\n",
    "            loss += f(cooccur[i][j])* (np.dot(W[i], W[j]) + b[i] + b[j] - np.log(1 + cooccur[i][j])) ** 2\n",
    "    return loss"
   ]
  },
  {
   "cell_type": "code",
   "execution_count": 10,
   "metadata": {
    "collapsed": true
   },
   "outputs": [],
   "source": [
    "W = (np.random.rand(vocabulary_size, dimension) - 0.5) / float(dimension + 1)\n",
    "b = (np.random.rand(vocabulary_size) - 0.5) / float(dimension + 1)"
   ]
  },
  {
   "cell_type": "code",
   "execution_count": 11,
   "metadata": {},
   "outputs": [
    {
     "name": "stdout",
     "output_type": "stream",
     "text": [
      "training epoch 9 17000001/17005207 "
     ]
    }
   ],
   "source": [
    "for epoch in xrange(10):\n",
    "    word_shown = [0 for i in xrange(vocabulary_size)]\n",
    "    for i in xrange(len(words)):\n",
    "        x = words[i]\n",
    "        learning_rate = max(0.1 - word_shown[x]/float(word_count[x]), 0.0001)\n",
    "        word_shown[x] += 1\n",
    "        if (x == vocabulary_size -1): continue\n",
    "        for y in words[i-window_size+1:i]:\n",
    "            if (y == vocabulary_size - 1): continue\n",
    "            r = np.dot(W[x], W[y]) + b[x] + b[y] - np.log(1 + cooccur[x][y])\n",
    "            p = learning_rate * f(cooccur[x][y]) * r\n",
    "            b[x] -= p\n",
    "            b[y] -= p\n",
    "            W_x_ = W[x].copy()\n",
    "            W[x] -= p * W[y]\n",
    "            W[y] -= p * W_x_\n",
    "        if (i % 10000 == 0):\n",
    "            sys.stdout.flush()\n",
    "            opt = \"\\r\\rtraining epoch \"+str(epoch)+\" \"+str(i+1)+\"/\"+str(len(words))+\" \"\n",
    "            #opt += \"loss = \"+str(compute_loss(W, b))+\"\\n\"\n",
    "            sys.stdout.write(opt)"
   ]
  },
  {
   "cell_type": "code",
   "execution_count": 14,
   "metadata": {
    "collapsed": true
   },
   "outputs": [],
   "source": [
    "file = open(\"vectors.txt\", \"w\")\n",
    "for i in xrange(4894):\n",
    "    print >> file, word_list[i], \" \".join([str(w) for w in W[i]])\n",
    "file.close()"
   ]
  },
  {
   "cell_type": "code",
   "execution_count": 13,
   "metadata": {
    "collapsed": true
   },
   "outputs": [],
   "source": [
    "#sixers run1\n",
    "#sixers run0 is word2vec without window random"
   ]
  }
 ],
 "metadata": {
  "kernelspec": {
   "display_name": "Python 2",
   "language": "python",
   "name": "python2"
  },
  "language_info": {
   "codemirror_mode": {
    "name": "ipython",
    "version": 2
   },
   "file_extension": ".py",
   "mimetype": "text/x-python",
   "name": "python",
   "nbconvert_exporter": "python",
   "pygments_lexer": "ipython2",
   "version": "2.7.13"
  }
 },
 "nbformat": 4,
 "nbformat_minor": 2
}
